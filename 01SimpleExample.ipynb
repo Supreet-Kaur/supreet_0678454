{
 "cells": [
  {
   "cell_type": "markdown",
   "metadata": {},
   "source": [
    "# Introduction\n",
    "--------------\n",
    "\n",
    "This Notebook is the simplest example for how to run one single piece of code in Python for the course. Edit someting.\n"
   ]
  },
  {
   "cell_type": "code",
   "execution_count": 2,
   "metadata": {},
   "outputs": [
    {
     "name": "stdout",
     "output_type": "stream",
     "text": [
      "\n",
      " Hello world I am editing! Python is great! The editor of this code is supreet\n"
     ]
    }
   ],
   "source": [
    "#This is the simplest of the codes for Python\n",
    "\n",
    "txt='Python is great!'\n",
    "txt2=\" The editor of this code is supreet\"\n",
    "print('\\n Hello world I am editing! '+txt+txt2)\n",
    "list1=[2,2,3]\n",
    "\n",
    "\n",
    "\n"
   ]
  },
  {
   "cell_type": "markdown",
   "metadata": {},
   "source": [
    "Example of if else "
   ]
  },
  {
   "cell_type": "code",
   "execution_count": 3,
   "metadata": {},
   "outputs": [
    {
     "name": "stdout",
     "output_type": "stream",
     "text": [
      "first elemet is equal or lesser than second\n"
     ]
    }
   ],
   "source": [
    "if list1[0]>list1[1]:\n",
    "    print('first elemet is greater than second')\n",
    "else:\n",
    " print('first elemet is equal or lesser than second')"
   ]
  },
  {
   "cell_type": "markdown",
   "metadata": {},
   "source": [
    "Factorial calculation using while loop"
   ]
  },
  {
   "cell_type": "code",
   "execution_count": 4,
   "metadata": {},
   "outputs": [
    {
     "name": "stdout",
     "output_type": "stream",
     "text": [
      "('factorial of ', 10, ' is ', 3628800)\n"
     ]
    }
   ],
   "source": [
    "a=x=10\n",
    "fact=1\n",
    "while x>0:\n",
    "   fact=fact*x\n",
    "   x=x-1\n",
    "print('factorial of ',a,' is ',fact)"
   ]
  },
  {
   "cell_type": "code",
   "execution_count": null,
   "metadata": {
    "collapsed": true
   },
   "outputs": [],
   "source": [
    "few simple commands were exectuded to show functionality of if else,while and list"
   ]
  }
 ],
 "metadata": {
  "anaconda-cloud": {},
  "kernelspec": {
   "display_name": "Python 2",
   "language": "python",
   "name": "python2"
  },
  "language_info": {
   "codemirror_mode": {
    "name": "ipython",
    "version": 2
   },
   "file_extension": ".py",
   "mimetype": "text/x-python",
   "name": "python",
   "nbconvert_exporter": "python",
   "pygments_lexer": "ipython2",
   "version": "2.7.14"
  }
 },
 "nbformat": 4,
 "nbformat_minor": 1
}
